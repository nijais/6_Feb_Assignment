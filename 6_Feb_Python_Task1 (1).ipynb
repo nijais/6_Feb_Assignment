{
 "cells": [
  {
   "cell_type": "markdown",
   "id": "dbd4beb5-b561-4799-9299-b2db8a0a33b0",
   "metadata": {},
   "source": [
    "# Q1. Create a function which will take a list as an argument and return the product of all the numbers after creating a flat list.\n",
    "# Use the below-given list as an argument for your function.\n",
    "# list1 = [1,2,3,4, [44,55,66, True], False, (34,56,78,89,34), {1,2,3,3,2,1}, {1:34, \"key2\": [55, 67, 78, 89], 4: (45,\n",
    "# 22, 61, 34)}, [56, 'data science'], 'Machine Learning']\n",
    "# Note: you must extract numeric keys and values of the dictionary also.\n",
    "\n",
    "list1 = [1,2,3,4, [44,55,66, True], False, (34,56,78,89,34), {1,2,3,3,2,1}, {1:34, \"key2\": [55, 67, 78, 89], 4: (45,\n",
    "22, 61, 34)}, [56, 'data science'], 'Machine Learning'] \n",
    "[1, 2, 3, 4, 44, 55, 66, 34, 56, 78, 89, 34, 1, 2, 3, 1, 4, 34, 55, 67, 78, 89, 45, 22, 61, 34, 56]\n",
    "\n",
    "from functools import  reduce\n",
    "def product(lst):\n",
    "    l = []\n",
    "    for i in lst:\n",
    "        if type(i) == int:\n",
    "            l.append(i)\n",
    "            \n",
    "        elif type(i) == list:\n",
    "            for j in i:\n",
    "                if type(j) == int:\n",
    "                    l.append(j)\n",
    "        elif type(i) == tuple:\n",
    "            for k in i:\n",
    "                if type(k) == int:\n",
    "                    l.append(k)\n",
    "        elif type(i) == set:\n",
    "            for z in i:\n",
    "                if type(z) == int:\n",
    "                    l.append(z)\n",
    "        elif type(i) == dict:\n",
    "                for m in list(i.keys()):\n",
    "                    if type(m) == int :\n",
    "                        l.append(m)\n",
    "                for n in list(i.values()):\n",
    "                    if type(n) == int :\n",
    "                        l.append(n)\n",
    "                    elif type(n) == list:\n",
    "                        for o in n:\n",
    "                            if type(o) == int :\n",
    "                                l.append(o)\n",
    "                    else:\n",
    "                        if type(n) == tuple:\n",
    "                            for p in n :\n",
    "                                if type(p) == int:\n",
    "                                    l.append(p)\n",
    "    print('Flat list: ',l)\n",
    "    a = reduce(lambda x,y : x*y, l) if l else None\n",
    "    return a\n",
    "                \n",
    "print('Final Answer: ', product(list1))  \n",
    "\n",
    "### In list1 there is tuple present and inside this tuple duplicate value assigned so when we execute above code then it will exclude that duplicate numbers. "
   ]
  },
  {
   "cell_type": "markdown",
   "id": "cc1a23d6-3452-45bc-90bb-e5c897b5eb76",
   "metadata": {},
   "source": []
  },
  {
   "cell_type": "markdown",
   "id": "b52692a6-f858-4ee9-b22e-91e47dd24afb",
   "metadata": {},
   "source": [
    "# Q2. Write a python program for encrypting a message sent to you by your friend. The logic of encryption should be such that, for a the output should be z. For b, the output should be y. For c, the output should be x respectively. Also, the whitespace should be replaced with a dollar sign. Keep the punctuation marks unchanged.Input Sentence: I want to become a Data Scientist. Encrypt the above input sentence using the program you just created. Note: Convert the given input sentence into lowercase before encrypting. The final output should be lowercase.\n",
    "\n",
    "\n",
    "def encrypting_original_message(message):\n",
    "    dict1 = {'a': 'z', 'b': 'y', 'c': 'x', 'd': 'w', 'e': 'v', 'f': 'u', 'g': 't', 'h': 's', 'i': 'r', 'j': 'q',\n",
    "               'k': 'p', 'l': 'o', 'm': 'n', 'n': 'm', 'o': 'l', 'p': 'k', 'q': 'j', 'r': 'i', 's': 'h', 't': 'g',\n",
    "               'u': 'f', 'v': 'e', 'w': 'd', 'x': 'c', 'y': 'b', 'z': 'a', ' ': '$'}\n",
    "\n",
    "    encrypted_message = ''\n",
    "    for char in message:\n",
    "        if char in dict1:\n",
    "            encrypted_message += dict1[char]\n",
    "        else:\n",
    "            encrypted_message += char\n",
    "\n",
    "    return encrypted_message\n",
    "\n",
    "original_message = 'I want to become a Data Scientist'.lower()\n",
    "#### print(original_message)\n",
    "encrypted_message = encrypting_original_message(original_message)\n",
    "print('Encrypted message:', encrypted_message)"
   ]
  },
  {
   "cell_type": "code",
   "execution_count": null,
   "id": "66b3a418-c9dd-4003-b384-621715124d2f",
   "metadata": {},
   "outputs": [],
   "source": []
  },
  {
   "cell_type": "code",
   "execution_count": null,
   "id": "62084405-dab9-4521-9200-8aa6cc962c18",
   "metadata": {},
   "outputs": [],
   "source": []
  },
  {
   "cell_type": "code",
   "execution_count": null,
   "id": "927fb9a5-958d-4bb1-ac64-e812c2ef0c0a",
   "metadata": {},
   "outputs": [],
   "source": []
  },
  {
   "cell_type": "code",
   "execution_count": null,
   "id": "6b8148e6-2e2d-47d2-b701-96ca12b1a8f4",
   "metadata": {},
   "outputs": [],
   "source": []
  },
  {
   "cell_type": "code",
   "execution_count": null,
   "id": "b5cf9c92-3e49-409a-975c-3be02c6a7cfe",
   "metadata": {},
   "outputs": [],
   "source": []
  },
  {
   "cell_type": "code",
   "execution_count": null,
   "id": "4a06a280-efba-46fd-a670-bf4a0c5a70b5",
   "metadata": {},
   "outputs": [],
   "source": []
  },
  {
   "cell_type": "code",
   "execution_count": null,
   "id": "d2ef73df-3914-4152-ba94-b3a9b266b1c3",
   "metadata": {},
   "outputs": [],
   "source": []
  },
  {
   "cell_type": "code",
   "execution_count": null,
   "id": "36d85625-f584-4e54-8b62-a6f04db2f3e9",
   "metadata": {},
   "outputs": [],
   "source": []
  },
  {
   "cell_type": "code",
   "execution_count": null,
   "id": "a6207708-bd95-4137-a24c-9200872c7658",
   "metadata": {},
   "outputs": [],
   "source": []
  },
  {
   "cell_type": "code",
   "execution_count": null,
   "id": "0a45337f-9f85-4158-9c1c-5c7cf86d6385",
   "metadata": {},
   "outputs": [],
   "source": []
  },
  {
   "cell_type": "code",
   "execution_count": null,
   "id": "d4194326-c21d-4633-b81b-28dcc9e84b77",
   "metadata": {},
   "outputs": [],
   "source": []
  }
 ],
 "metadata": {
  "kernelspec": {
   "display_name": "Python 3 (ipykernel)",
   "language": "python",
   "name": "python3"
  },
  "language_info": {
   "codemirror_mode": {
    "name": "ipython",
    "version": 3
   },
   "file_extension": ".py",
   "mimetype": "text/x-python",
   "name": "python",
   "nbconvert_exporter": "python",
   "pygments_lexer": "ipython3",
   "version": "3.10.8"
  }
 },
 "nbformat": 4,
 "nbformat_minor": 5
}
